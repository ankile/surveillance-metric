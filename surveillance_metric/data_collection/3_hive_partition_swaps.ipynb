{
 "cells": [
  {
   "cell_type": "code",
   "execution_count": 1,
   "metadata": {},
   "outputs": [
    {
     "data": {
      "text/plain": [
       "polars.config.Config"
      ]
     },
     "execution_count": 1,
     "metadata": {},
     "output_type": "execute_result"
    }
   ],
   "source": [
    "import polars as pl\n",
    "\n",
    "pl.Config.set_tbl_width_chars(100)"
   ]
  },
  {
   "cell_type": "code",
   "execution_count": 2,
   "metadata": {},
   "outputs": [],
   "source": [
    "df = pl.read_parquet(\n",
    "    \"/data/scratch/ankile/surveillance-metric-2/data_original/swaps*/*.parquet\"\n",
    ")"
   ]
  },
  {
   "cell_type": "code",
   "execution_count": 3,
   "metadata": {},
   "outputs": [
    {
     "data": {
      "text/plain": [
       "'41,692,163'"
      ]
     },
     "execution_count": 3,
     "metadata": {},
     "output_type": "execute_result"
    }
   ],
   "source": [
    "f\"{df.shape[0]:,}\""
   ]
  },
  {
   "cell_type": "code",
   "execution_count": 4,
   "metadata": {},
   "outputs": [
    {
     "data": {
      "text/plain": [
       "['block_timestamp',\n",
       " 'block_number',\n",
       " 'transaction_hash',\n",
       " 'log_index',\n",
       " 'sender',\n",
       " 'recipient',\n",
       " 'amount0',\n",
       " 'amount1',\n",
       " 'sqrtPriceX96',\n",
       " 'liquidity',\n",
       " 'tick',\n",
       " 'address',\n",
       " 'from_address',\n",
       " 'to_address',\n",
       " 'transaction_index']"
      ]
     },
     "execution_count": 4,
     "metadata": {},
     "output_type": "execute_result"
    }
   ],
   "source": [
    "df.columns"
   ]
  },
  {
   "cell_type": "code",
   "execution_count": 5,
   "metadata": {},
   "outputs": [
    {
     "data": {
      "text/plain": [
       "'0x4b5ab61593a2401b1075b90c04cbcdd3f87ce011'"
      ]
     },
     "execution_count": 5,
     "metadata": {},
     "output_type": "execute_result"
    }
   ],
   "source": [
    "df[0].get_column(\"address\").item()"
   ]
  },
  {
   "cell_type": "code",
   "execution_count": 6,
   "metadata": {},
   "outputs": [],
   "source": [
    "# Sort the df before storing to speed up subsequent reads\n",
    "df = df.sort(by=[\"address\", \"block_number\", \"transaction_index\", \"log_index\"])"
   ]
  },
  {
   "cell_type": "code",
   "execution_count": 7,
   "metadata": {},
   "outputs": [],
   "source": [
    "# Write as a hive-partitioned dataset based on the address column\n",
    "df.write_parquet(\n",
    "    \"/data/scratch/ankile/surveillance-metric-2/data_original/swaps\",\n",
    "    partition_by=[\"address\"],\n",
    "    compression=\"lz4\",\n",
    ")"
   ]
  },
  {
   "cell_type": "code",
   "execution_count": 8,
   "metadata": {},
   "outputs": [
    {
     "name": "stdout",
     "output_type": "stream",
     "text": [
      "/shells/zsh: /data/scratch/ankile/miniconda3/envs/rr/lib/libtinfo.so.6: no version information available (required by /shells/zsh)\n"
     ]
    }
   ],
   "source": [
    "!rm -rf /data/scratch/ankile/surveillance-metric-2/data_original/partitioned_swaps"
   ]
  },
  {
   "cell_type": "code",
   "execution_count": 16,
   "metadata": {},
   "outputs": [],
   "source": [
    "del df"
   ]
  },
  {
   "cell_type": "code",
   "execution_count": 3,
   "metadata": {},
   "outputs": [],
   "source": [
    "pool_addr = \"0xCBCdF9626bC03E24f779434178A73a0B4bad62eD\".lower()"
   ]
  },
  {
   "cell_type": "code",
   "execution_count": 7,
   "metadata": {},
   "outputs": [],
   "source": [
    "# Check performance of reading a dataframe filtering on the address with and without partitioning\n",
    "df = (\n",
    "    pl.scan_parquet(\n",
    "        \"/data/scratch/ankile/surveillance-metric-2/data_original/swaps/\",\n",
    "        hive_partitioning=True,\n",
    "    )\n",
    "    .filter(pl.col(\"address\") == pool_addr)\n",
    "    # .sort(by=[\"block_number\", \"transaction_index\", \"log_index\"])\n",
    "    .collect()\n",
    "    .to_pandas()\n",
    ")"
   ]
  },
  {
   "cell_type": "code",
   "execution_count": 5,
   "metadata": {},
   "outputs": [],
   "source": [
    "del df"
   ]
  },
  {
   "cell_type": "code",
   "execution_count": 6,
   "metadata": {},
   "outputs": [],
   "source": [
    "df = (\n",
    "    pl.scan_parquet(\n",
    "        \"/data/scratch/ankile/surveillance-metric-2/data_original/swaps*/*.parquet\",\n",
    "    )\n",
    "    .filter(pl.col(\"address\") == pool_addr)\n",
    "    .sort(by=[\"block_number\", \"transaction_index\", \"log_index\"])\n",
    "    .collect()\n",
    "    .to_pandas()\n",
    ")"
   ]
  },
  {
   "cell_type": "code",
   "execution_count": 8,
   "metadata": {},
   "outputs": [
    {
     "data": {
      "text/plain": [
       "'41,692,163'"
      ]
     },
     "execution_count": 8,
     "metadata": {},
     "output_type": "execute_result"
    }
   ],
   "source": [
    "f\"{df.shape[0]:,}\""
   ]
  },
  {
   "cell_type": "code",
   "execution_count": 5,
   "metadata": {},
   "outputs": [
    {
     "data": {
      "text/plain": [
       "'DF is 0.00 MB'"
      ]
     },
     "execution_count": 5,
     "metadata": {},
     "output_type": "execute_result"
    }
   ],
   "source": [
    "# Measure size in memory\n",
    "import sys\n",
    "\n",
    "f\"DF is {sys.getsizeof(df) / 1e6:.2f} MB\""
   ]
  },
  {
   "cell_type": "code",
   "execution_count": 7,
   "metadata": {},
   "outputs": [
    {
     "ename": "KeyError",
     "evalue": "'POLARS_MAX_THREADS'",
     "output_type": "error",
     "traceback": [
      "\u001b[0;31m---------------------------------------------------------------------------\u001b[0m",
      "\u001b[0;31mKeyError\u001b[0m                                  Traceback (most recent call last)",
      "Cell \u001b[0;32mIn[7], line 3\u001b[0m\n\u001b[1;32m      1\u001b[0m \u001b[38;5;28;01mimport\u001b[39;00m \u001b[38;5;21;01mos\u001b[39;00m\n\u001b[0;32m----> 3\u001b[0m \u001b[43mos\u001b[49m\u001b[38;5;241;43m.\u001b[39;49m\u001b[43menviron\u001b[49m\u001b[43m[\u001b[49m\u001b[38;5;124;43m\"\u001b[39;49m\u001b[38;5;124;43mPOLARS_MAX_THREADS\u001b[39;49m\u001b[38;5;124;43m\"\u001b[39;49m\u001b[43m]\u001b[49m\n",
      "File \u001b[0;32m<frozen os>:714\u001b[0m, in \u001b[0;36m__getitem__\u001b[0;34m(self, key)\u001b[0m\n",
      "\u001b[0;31mKeyError\u001b[0m: 'POLARS_MAX_THREADS'"
     ]
    }
   ],
   "source": [
    "import os\n",
    "\n",
    "os.environ[\"POLARS_MAX_THREADS\"]"
   ]
  },
  {
   "cell_type": "code",
   "execution_count": null,
   "metadata": {},
   "outputs": [],
   "source": []
  }
 ],
 "metadata": {
  "kernelspec": {
   "display_name": "defi",
   "language": "python",
   "name": "python3"
  },
  "language_info": {
   "codemirror_mode": {
    "name": "ipython",
    "version": 3
   },
   "file_extension": ".py",
   "mimetype": "text/x-python",
   "name": "python",
   "nbconvert_exporter": "python",
   "pygments_lexer": "ipython3",
   "version": "3.12.4"
  }
 },
 "nbformat": 4,
 "nbformat_minor": 2
}
