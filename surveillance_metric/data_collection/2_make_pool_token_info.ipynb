{
 "cells": [
  {
   "cell_type": "code",
   "execution_count": 2,
   "metadata": {},
   "outputs": [],
   "source": [
    "import polars as pl\n",
    "from pathlib import Path\n",
    "import matplotlib.pyplot as plt"
   ]
  },
  {
   "cell_type": "code",
   "execution_count": 3,
   "metadata": {},
   "outputs": [
    {
     "data": {
      "text/plain": [
       "polars.config.Config"
      ]
     },
     "execution_count": 3,
     "metadata": {},
     "output_type": "execute_result"
    }
   ],
   "source": [
    "# Set the column width to 1000\n",
    "pl.Config.set_fmt_str_lengths(1000)"
   ]
  },
  {
   "cell_type": "code",
   "execution_count": 4,
   "metadata": {},
   "outputs": [],
   "source": [
    "base = Path(\"/Users/larsankile/code/surveillance-metric-2/data_original\")"
   ]
  },
  {
   "cell_type": "code",
   "execution_count": 5,
   "metadata": {},
   "outputs": [
    {
     "data": {
      "text/plain": [
       "['block_timestamp',\n",
       " 'block_number',\n",
       " 'transaction_hash',\n",
       " 'log_index',\n",
       " 'token0',\n",
       " 'token1',\n",
       " 'fee',\n",
       " 'tickSpacing',\n",
       " 'pool']"
      ]
     },
     "execution_count": 5,
     "metadata": {},
     "output_type": "execute_result"
    }
   ],
   "source": [
    "pools = pl.read_parquet(base / \"factory/*.parquet\")\n",
    "\n",
    "pools.columns"
   ]
  },
  {
   "cell_type": "code",
   "execution_count": 6,
   "metadata": {},
   "outputs": [
    {
     "data": {
      "text/plain": [
       "['address', 'symbol', 'name', 'decimals']"
      ]
     },
     "execution_count": 6,
     "metadata": {},
     "output_type": "execute_result"
    }
   ],
   "source": [
    "tokens = pl.read_parquet(base / \"uniswap-v3-tokens.parquet\")\n",
    "\n",
    "tokens.columns"
   ]
  },
  {
   "cell_type": "code",
   "execution_count": 7,
   "metadata": {},
   "outputs": [
    {
     "data": {
      "text/html": [
       "<div><style>\n",
       ".dataframe > thead > tr,\n",
       ".dataframe > tbody > tr {\n",
       "  text-align: right;\n",
       "  white-space: pre-wrap;\n",
       "}\n",
       "</style>\n",
       "<small>shape: (18_436, 13)</small><table border=\"1\" class=\"dataframe\"><thead><tr><th>block_timestamp</th><th>block_number</th><th>transaction_hash</th><th>log_index</th><th>token0</th><th>token1</th><th>fee</th><th>tickSpacing</th><th>pool</th><th>symbol0</th><th>decimals0</th><th>symbol1</th><th>decimals1</th></tr><tr><td>datetime[ns, UTC]</td><td>i64</td><td>str</td><td>i64</td><td>str</td><td>str</td><td>str</td><td>str</td><td>str</td><td>str</td><td>f64</td><td>str</td><td>f64</td></tr></thead><tbody><tr><td>2023-12-10 23:33:23 UTC</td><td>18759113</td><td>&quot;0xe2699a839b73f5b01e3730d0fa62b4dcbb5c355cdd62fc0fdcb6c42841fc3a51&quot;</td><td>0</td><td>&quot;0x882db217dbc4b7c52a79a95a02b4e78d408d56d2&quot;</td><td>&quot;0xc02aaa39b223fe8d0a0e5c4f27ead9083c756cc2&quot;</td><td>&quot;100&quot;</td><td>&quot;1&quot;</td><td>&quot;0xfbd78d4608d349a321fc2d676d281e24ed1c0896&quot;</td><td>null</td><td>null</td><td>&quot;WETH&quot;</td><td>18.0</td></tr><tr><td>2023-08-28 00:01:11 UTC</td><td>18009432</td><td>&quot;0x719eb90c947666f108ea898f14ec44d0265db56143c9f1b550c4a467a76323ef&quot;</td><td>0</td><td>&quot;0x42141cd6113355d87793ca8925331e23c5da2d9d&quot;</td><td>&quot;0xc02aaa39b223fe8d0a0e5c4f27ead9083c756cc2&quot;</td><td>&quot;100&quot;</td><td>&quot;1&quot;</td><td>&quot;0xa6e9eb44afec77cece0baa5c65e2107b61341f5b&quot;</td><td>null</td><td>null</td><td>&quot;WETH&quot;</td><td>18.0</td></tr><tr><td>2023-03-15 15:53:35 UTC</td><td>16834308</td><td>&quot;0xbc53dc8c28ea33549676f117fde050c46c72226817a27caa82b9159561853500&quot;</td><td>0</td><td>&quot;0x8d96b4ab6c741a4c8679ae323a100d74f085ba8f&quot;</td><td>&quot;0xdac17f958d2ee523a2206206994597c13d831ec7&quot;</td><td>&quot;100&quot;</td><td>&quot;1&quot;</td><td>&quot;0x5c2a6a370e63b4de95650edc565ad0fbab5312ae&quot;</td><td>&quot;BZR&quot;</td><td>18.0</td><td>&quot;USDT&quot;</td><td>6.0</td></tr><tr><td>2023-10-30 21:15:59 UTC</td><td>18465593</td><td>&quot;0x6f82e811ac19059adbc4f1cca90820bfbfb8309db1b279c116cab9abb59f7dba&quot;</td><td>0</td><td>&quot;0x9d3351fc4fdc93c7efd353ac97c93b6df87cb443&quot;</td><td>&quot;0xc02aaa39b223fe8d0a0e5c4f27ead9083c756cc2&quot;</td><td>&quot;100&quot;</td><td>&quot;1&quot;</td><td>&quot;0x73895b1666f0e116f74b6300094d53a479e499bf&quot;</td><td>null</td><td>null</td><td>&quot;WETH&quot;</td><td>18.0</td></tr><tr><td>2023-11-08 20:30:35 UTC</td><td>18529635</td><td>&quot;0x6e7cee2611cd01be1524da1cce4881d5401b286c5fc0f35a21a493db7e58c8e4&quot;</td><td>0</td><td>&quot;0x441de36e12d514bdd9203dc7c4f16fa2aba86571&quot;</td><td>&quot;0xc02aaa39b223fe8d0a0e5c4f27ead9083c756cc2&quot;</td><td>&quot;100&quot;</td><td>&quot;1&quot;</td><td>&quot;0x0d56e909e585913023d1102f70088d7deba5411b&quot;</td><td>null</td><td>null</td><td>&quot;WETH&quot;</td><td>18.0</td></tr><tr><td>&hellip;</td><td>&hellip;</td><td>&hellip;</td><td>&hellip;</td><td>&hellip;</td><td>&hellip;</td><td>&hellip;</td><td>&hellip;</td><td>&hellip;</td><td>&hellip;</td><td>&hellip;</td><td>&hellip;</td><td>&hellip;</td></tr><tr><td>2022-08-10 02:16:11 UTC</td><td>15311689</td><td>&quot;0xd571c1e535c48aae9b3482261c52b2e0ed9eef42ec92494d59c177c743baafeb&quot;</td><td>511</td><td>&quot;0xa0b86991c6218b36c1d19d4a2e9eb0ce3606eb48&quot;</td><td>&quot;0xc55126051b22ebb829d00368f4b12bde432de5da&quot;</td><td>&quot;10000&quot;</td><td>&quot;200&quot;</td><td>&quot;0x491a8c1413aec9eb55ee59b4ac956ba5814a22aa&quot;</td><td>&quot;USDC&quot;</td><td>6.0</td><td>null</td><td>null</td></tr><tr><td>2022-07-28 02:35:13 UTC</td><td>15228330</td><td>&quot;0x9c3e57be88b068e1f5603c2fa1dc558c5b3944099b601fb50dcc3a5060fe4e75&quot;</td><td>511</td><td>&quot;0x097b9959bfcf715513ecd30c4b1fb469ef32b743&quot;</td><td>&quot;0xc02aaa39b223fe8d0a0e5c4f27ead9083c756cc2&quot;</td><td>&quot;10000&quot;</td><td>&quot;200&quot;</td><td>&quot;0x453bc17c75fe452718d0f774bbc2b8c1d6684b70&quot;</td><td>null</td><td>null</td><td>&quot;WETH&quot;</td><td>18.0</td></tr><tr><td>2023-10-18 02:27:59 UTC</td><td>18374262</td><td>&quot;0xc310193244fc55476bc41fc52feafebd5718117d1ddfaf35bd19a903bc3c6294&quot;</td><td>767</td><td>&quot;0x3be49de62c30cb373adf3adf6142489cfcbbf499&quot;</td><td>&quot;0xc02aaa39b223fe8d0a0e5c4f27ead9083c756cc2&quot;</td><td>&quot;3000&quot;</td><td>&quot;60&quot;</td><td>&quot;0x5a48eb847972f84fe8f91a6fa1e6a27ad982e281&quot;</td><td>null</td><td>null</td><td>&quot;WETH&quot;</td><td>18.0</td></tr><tr><td>2022-08-28 02:40:21 UTC</td><td>15425281</td><td>&quot;0x8de1c7c188c157275a134172ef06386d83e8de414276c7e0bfdcec4f18861328&quot;</td><td>767</td><td>&quot;0x03ff18afb32e6de91caa35c5e558ea30eb846bde&quot;</td><td>&quot;0xc02aaa39b223fe8d0a0e5c4f27ead9083c756cc2&quot;</td><td>&quot;3000&quot;</td><td>&quot;60&quot;</td><td>&quot;0xd6ecbe442a8a7be19c76572c51e6198d618a37ad&quot;</td><td>null</td><td>null</td><td>&quot;WETH&quot;</td><td>18.0</td></tr><tr><td>2023-09-08 09:16:47 UTC</td><td>18090748</td><td>&quot;0x755df5688d3f0ef38b196c1bf2ea9b3f75aec17ed3b675cccf9d63c2c300cbe7&quot;</td><td>767</td><td>&quot;0xc02aaa39b223fe8d0a0e5c4f27ead9083c756cc2&quot;</td><td>&quot;0xd92b7adfdb79c26b5983a56ba7540d48d4616b8e&quot;</td><td>&quot;10000&quot;</td><td>&quot;200&quot;</td><td>&quot;0x5ce32e6c505ee381a24599e43ee68fa600e79c88&quot;</td><td>&quot;WETH&quot;</td><td>18.0</td><td>null</td><td>null</td></tr></tbody></table></div>"
      ],
      "text/plain": [
       "shape: (18_436, 13)\n",
       "┌────────────┬────────────┬────────────┬───────────┬───┬─────────┬───────────┬─────────┬───────────┐\n",
       "│ block_time ┆ block_numb ┆ transactio ┆ log_index ┆ … ┆ symbol0 ┆ decimals0 ┆ symbol1 ┆ decimals1 │\n",
       "│ stamp      ┆ er         ┆ n_hash     ┆ ---       ┆   ┆ ---     ┆ ---       ┆ ---     ┆ ---       │\n",
       "│ ---        ┆ ---        ┆ ---        ┆ i64       ┆   ┆ str     ┆ f64       ┆ str     ┆ f64       │\n",
       "│ datetime[n ┆ i64        ┆ str        ┆           ┆   ┆         ┆           ┆         ┆           │\n",
       "│ s, UTC]    ┆            ┆            ┆           ┆   ┆         ┆           ┆         ┆           │\n",
       "╞════════════╪════════════╪════════════╪═══════════╪═══╪═════════╪═══════════╪═════════╪═══════════╡\n",
       "│ 2023-12-10 ┆ 18759113   ┆ 0xe2699a83 ┆ 0         ┆ … ┆ null    ┆ null      ┆ WETH    ┆ 18.0      │\n",
       "│ 23:33:23   ┆            ┆ 9b73f5b01e ┆           ┆   ┆         ┆           ┆         ┆           │\n",
       "│ UTC        ┆            ┆ 3730d0fa62 ┆           ┆   ┆         ┆           ┆         ┆           │\n",
       "│            ┆            ┆ b4dcbb5c35 ┆           ┆   ┆         ┆           ┆         ┆           │\n",
       "│            ┆            ┆ 5cdd62fc0f ┆           ┆   ┆         ┆           ┆         ┆           │\n",
       "│            ┆            ┆ dcb6c42841 ┆           ┆   ┆         ┆           ┆         ┆           │\n",
       "│            ┆            ┆ fc3a51     ┆           ┆   ┆         ┆           ┆         ┆           │\n",
       "│ 2023-08-28 ┆ 18009432   ┆ 0x719eb90c ┆ 0         ┆ … ┆ null    ┆ null      ┆ WETH    ┆ 18.0      │\n",
       "│ 00:01:11   ┆            ┆ 947666f108 ┆           ┆   ┆         ┆           ┆         ┆           │\n",
       "│ UTC        ┆            ┆ ea898f14ec ┆           ┆   ┆         ┆           ┆         ┆           │\n",
       "│            ┆            ┆ 44d0265db5 ┆           ┆   ┆         ┆           ┆         ┆           │\n",
       "│            ┆            ┆ 6143c9f1b5 ┆           ┆   ┆         ┆           ┆         ┆           │\n",
       "│            ┆            ┆ 50c4a467a7 ┆           ┆   ┆         ┆           ┆         ┆           │\n",
       "│            ┆            ┆ 6323ef     ┆           ┆   ┆         ┆           ┆         ┆           │\n",
       "│ 2023-03-15 ┆ 16834308   ┆ 0xbc53dc8c ┆ 0         ┆ … ┆ BZR     ┆ 18.0      ┆ USDT    ┆ 6.0       │\n",
       "│ 15:53:35   ┆            ┆ 28ea335496 ┆           ┆   ┆         ┆           ┆         ┆           │\n",
       "│ UTC        ┆            ┆ 76f117fde0 ┆           ┆   ┆         ┆           ┆         ┆           │\n",
       "│            ┆            ┆ 50c46c7222 ┆           ┆   ┆         ┆           ┆         ┆           │\n",
       "│            ┆            ┆ 6817a27caa ┆           ┆   ┆         ┆           ┆         ┆           │\n",
       "│            ┆            ┆ 82b9159561 ┆           ┆   ┆         ┆           ┆         ┆           │\n",
       "│            ┆            ┆ 853500     ┆           ┆   ┆         ┆           ┆         ┆           │\n",
       "│ 2023-10-30 ┆ 18465593   ┆ 0x6f82e811 ┆ 0         ┆ … ┆ null    ┆ null      ┆ WETH    ┆ 18.0      │\n",
       "│ 21:15:59   ┆            ┆ ac19059adb ┆           ┆   ┆         ┆           ┆         ┆           │\n",
       "│ UTC        ┆            ┆ c4f1cca908 ┆           ┆   ┆         ┆           ┆         ┆           │\n",
       "│            ┆            ┆ 20bfbfb830 ┆           ┆   ┆         ┆           ┆         ┆           │\n",
       "│            ┆            ┆ 9db1b279c1 ┆           ┆   ┆         ┆           ┆         ┆           │\n",
       "│            ┆            ┆ 16cab9abb5 ┆           ┆   ┆         ┆           ┆         ┆           │\n",
       "│            ┆            ┆ 9f7dba     ┆           ┆   ┆         ┆           ┆         ┆           │\n",
       "│ 2023-11-08 ┆ 18529635   ┆ 0x6e7cee26 ┆ 0         ┆ … ┆ null    ┆ null      ┆ WETH    ┆ 18.0      │\n",
       "│ 20:30:35   ┆            ┆ 11cd01be15 ┆           ┆   ┆         ┆           ┆         ┆           │\n",
       "│ UTC        ┆            ┆ 24da1cce48 ┆           ┆   ┆         ┆           ┆         ┆           │\n",
       "│            ┆            ┆ 81d5401b28 ┆           ┆   ┆         ┆           ┆         ┆           │\n",
       "│            ┆            ┆ 6c5fc0f35a ┆           ┆   ┆         ┆           ┆         ┆           │\n",
       "│            ┆            ┆ 21a493db7e ┆           ┆   ┆         ┆           ┆         ┆           │\n",
       "│            ┆            ┆ 58c8e4     ┆           ┆   ┆         ┆           ┆         ┆           │\n",
       "│ …          ┆ …          ┆ …          ┆ …         ┆ … ┆ …       ┆ …         ┆ …       ┆ …         │\n",
       "│ 2022-08-10 ┆ 15311689   ┆ 0xd571c1e5 ┆ 511       ┆ … ┆ USDC    ┆ 6.0       ┆ null    ┆ null      │\n",
       "│ 02:16:11   ┆            ┆ 35c48aae9b ┆           ┆   ┆         ┆           ┆         ┆           │\n",
       "│ UTC        ┆            ┆ 3482261c52 ┆           ┆   ┆         ┆           ┆         ┆           │\n",
       "│            ┆            ┆ b2e0ed9eef ┆           ┆   ┆         ┆           ┆         ┆           │\n",
       "│            ┆            ┆ 42ec92494d ┆           ┆   ┆         ┆           ┆         ┆           │\n",
       "│            ┆            ┆ 59c177c743 ┆           ┆   ┆         ┆           ┆         ┆           │\n",
       "│            ┆            ┆ baafeb     ┆           ┆   ┆         ┆           ┆         ┆           │\n",
       "│ 2022-07-28 ┆ 15228330   ┆ 0x9c3e57be ┆ 511       ┆ … ┆ null    ┆ null      ┆ WETH    ┆ 18.0      │\n",
       "│ 02:35:13   ┆            ┆ 88b068e1f5 ┆           ┆   ┆         ┆           ┆         ┆           │\n",
       "│ UTC        ┆            ┆ 603c2fa1dc ┆           ┆   ┆         ┆           ┆         ┆           │\n",
       "│            ┆            ┆ 558c5b3944 ┆           ┆   ┆         ┆           ┆         ┆           │\n",
       "│            ┆            ┆ 099b601fb5 ┆           ┆   ┆         ┆           ┆         ┆           │\n",
       "│            ┆            ┆ 0dcc3a5060 ┆           ┆   ┆         ┆           ┆         ┆           │\n",
       "│            ┆            ┆ fe4e75     ┆           ┆   ┆         ┆           ┆         ┆           │\n",
       "│ 2023-10-18 ┆ 18374262   ┆ 0xc3101932 ┆ 767       ┆ … ┆ null    ┆ null      ┆ WETH    ┆ 18.0      │\n",
       "│ 02:27:59   ┆            ┆ 44fc55476b ┆           ┆   ┆         ┆           ┆         ┆           │\n",
       "│ UTC        ┆            ┆ c41fc52fea ┆           ┆   ┆         ┆           ┆         ┆           │\n",
       "│            ┆            ┆ febd571811 ┆           ┆   ┆         ┆           ┆         ┆           │\n",
       "│            ┆            ┆ 7d1ddfaf35 ┆           ┆   ┆         ┆           ┆         ┆           │\n",
       "│            ┆            ┆ bd19a903bc ┆           ┆   ┆         ┆           ┆         ┆           │\n",
       "│            ┆            ┆ 3c6294     ┆           ┆   ┆         ┆           ┆         ┆           │\n",
       "│ 2022-08-28 ┆ 15425281   ┆ 0x8de1c7c1 ┆ 767       ┆ … ┆ null    ┆ null      ┆ WETH    ┆ 18.0      │\n",
       "│ 02:40:21   ┆            ┆ 88c157275a ┆           ┆   ┆         ┆           ┆         ┆           │\n",
       "│ UTC        ┆            ┆ 134172ef06 ┆           ┆   ┆         ┆           ┆         ┆           │\n",
       "│            ┆            ┆ 386d83e8de ┆           ┆   ┆         ┆           ┆         ┆           │\n",
       "│            ┆            ┆ 414276c7e0 ┆           ┆   ┆         ┆           ┆         ┆           │\n",
       "│            ┆            ┆ bfdcec4f18 ┆           ┆   ┆         ┆           ┆         ┆           │\n",
       "│            ┆            ┆ 861328     ┆           ┆   ┆         ┆           ┆         ┆           │\n",
       "│ 2023-09-08 ┆ 18090748   ┆ 0x755df568 ┆ 767       ┆ … ┆ WETH    ┆ 18.0      ┆ null    ┆ null      │\n",
       "│ 09:16:47   ┆            ┆ 8d3f0ef38b ┆           ┆   ┆         ┆           ┆         ┆           │\n",
       "│ UTC        ┆            ┆ 196c1bf2ea ┆           ┆   ┆         ┆           ┆         ┆           │\n",
       "│            ┆            ┆ 9b3f75aec1 ┆           ┆   ┆         ┆           ┆         ┆           │\n",
       "│            ┆            ┆ 7ed3b675cc ┆           ┆   ┆         ┆           ┆         ┆           │\n",
       "│            ┆            ┆ cf9d63c2c3 ┆           ┆   ┆         ┆           ┆         ┆           │\n",
       "│            ┆            ┆ 00cbe7     ┆           ┆   ┆         ┆           ┆         ┆           │\n",
       "└────────────┴────────────┴────────────┴───────────┴───┴─────────┴───────────┴─────────┴───────────┘"
      ]
     },
     "execution_count": 7,
     "metadata": {},
     "output_type": "execute_result"
    }
   ],
   "source": [
    "# Prepare token_info_df by selecting only the columns we need and transforming address to lowercase\n",
    "token_info = tokens.select(\n",
    "    pl.col(\"address\").str.to_lowercase().alias(\"address\"),\n",
    "    pl.col(\"symbol\"),\n",
    "    pl.col(\"decimals\"),\n",
    ")\n",
    "\n",
    "# Join for token0 information, transforming token0 to lowercase\n",
    "result = pools.join(\n",
    "    token_info,\n",
    "    left_on=pl.col(\"token0\").str.to_lowercase(),\n",
    "    right_on=\"address\",\n",
    "    how=\"left\",\n",
    ").rename({\"symbol\": \"symbol0\", \"decimals\": \"decimals0\"})\n",
    "\n",
    "# Join for token1 information, transforming token1 to lowercase\n",
    "result = result.join(\n",
    "    token_info,\n",
    "    left_on=pl.col(\"token1\").str.to_lowercase(),\n",
    "    right_on=\"address\",\n",
    "    how=\"left\",\n",
    ").rename({\"symbol\": \"symbol1\", \"decimals\": \"decimals1\"})\n",
    "\n",
    "# Exclude the address columns\n",
    "result = result.select(pl.all().exclude(columns=[\"address\", \"address_right\"]))\n",
    "\n",
    "result"
   ]
  },
  {
   "cell_type": "code",
   "execution_count": 13,
   "metadata": {},
   "outputs": [
    {
     "data": {
      "text/html": [
       "<div><style>\n",
       ".dataframe > thead > tr,\n",
       ".dataframe > tbody > tr {\n",
       "  text-align: right;\n",
       "  white-space: pre-wrap;\n",
       "}\n",
       "</style>\n",
       "<small>shape: (3_196, 14)</small><table border=\"1\" class=\"dataframe\"><thead><tr><th>chain_name</th><th>block_timestamp</th><th>block_number</th><th>transaction_hash</th><th>log_index</th><th>token0</th><th>token1</th><th>fee</th><th>tickSpacing</th><th>pool</th><th>symbol0</th><th>decimals0</th><th>symbol1</th><th>decimals1</th></tr><tr><td>str</td><td>datetime[μs, UTC]</td><td>i64</td><td>str</td><td>i64</td><td>str</td><td>str</td><td>f64</td><td>str</td><td>str</td><td>str</td><td>f64</td><td>str</td><td>f64</td></tr></thead><tbody><tr><td>&quot;ethereum&quot;</td><td>2023-05-25 23:05:47 UTC</td><td>17339307</td><td>&quot;0x2f31841a5174d4470bd375358327473d735ec0be94718924fd39643f81b5c62a&quot;</td><td>198</td><td>&quot;0x6cf4cf8f827b350c474c3862dbf13298977ee42d&quot;</td><td>&quot;0xc02aaa39b223fe8d0a0e5c4f27ead9083c756cc2&quot;</td><td>10000.0</td><td>&quot;200&quot;</td><td>&quot;0x7bf4eaced115b261e02737bd656571e4bc335549&quot;</td><td>&quot;REV&quot;</td><td>18.0</td><td>&quot;WETH&quot;</td><td>18.0</td></tr><tr><td>&quot;ethereum&quot;</td><td>2023-05-25 22:59:59 UTC</td><td>17339278</td><td>&quot;0x1334b6ea3d67bf7d0913764eb739b22fb4d7231f790b635ed7a6acce2dbc61ab&quot;</td><td>299</td><td>&quot;0x40063963486c17be51743a18c016bfbd07e7ca15&quot;</td><td>&quot;0xc02aaa39b223fe8d0a0e5c4f27ead9083c756cc2&quot;</td><td>3000.0</td><td>&quot;60&quot;</td><td>&quot;0x5081c559e31403b7e77532a5c3a2099d3da5e672&quot;</td><td>&quot;RBE&quot;</td><td>18.0</td><td>&quot;WETH&quot;</td><td>18.0</td></tr><tr><td>&quot;ethereum&quot;</td><td>2023-05-25 09:01:47 UTC</td><td>17335142</td><td>&quot;0x448fb8123f1d14109d2cd042332ab6e7596315fb02f07c14e39f82157b7d07bc&quot;</td><td>264</td><td>&quot;0x0a4024d7ff45df2f9488649af70491d6beee6e80&quot;</td><td>&quot;0xc02aaa39b223fe8d0a0e5c4f27ead9083c756cc2&quot;</td><td>3000.0</td><td>&quot;60&quot;</td><td>&quot;0x28f354bbb13f7d6738424cd3c092607c8f907999&quot;</td><td>&quot;MRW&quot;</td><td>18.0</td><td>&quot;WETH&quot;</td><td>18.0</td></tr><tr><td>&quot;ethereum&quot;</td><td>2023-05-25 15:45:59 UTC</td><td>17337135</td><td>&quot;0x39cda277528951896de1307c245991b5abb9fdb4672af7b07700d5aa06f3e1f0&quot;</td><td>222</td><td>&quot;0x320dc0b6aafeb9fa7106799c9bbea3f02dde1f56&quot;</td><td>&quot;0xc02aaa39b223fe8d0a0e5c4f27ead9083c756cc2&quot;</td><td>10000.0</td><td>&quot;200&quot;</td><td>&quot;0x454743fb44e3d9fb1e21cc4b74e462e601140a49&quot;</td><td>&quot;CENSOR&quot;</td><td>18.0</td><td>&quot;WETH&quot;</td><td>18.0</td></tr><tr><td>&quot;ethereum&quot;</td><td>2023-05-25 07:43:11 UTC</td><td>17334755</td><td>&quot;0xba1b2b6941763e2c2d32065fec3a50a42e2628a2c138215354987786995dfad9&quot;</td><td>173</td><td>&quot;0x3cbbd2511139fd37497a5d01321b6aaf52c2b42f&quot;</td><td>&quot;0xc02aaa39b223fe8d0a0e5c4f27ead9083c756cc2&quot;</td><td>10000.0</td><td>&quot;200&quot;</td><td>&quot;0x2186bb4bad31902290a64e30912c3d8360a7ecbc&quot;</td><td>&quot;SQUID&quot;</td><td>18.0</td><td>&quot;WETH&quot;</td><td>18.0</td></tr><tr><td>&hellip;</td><td>&hellip;</td><td>&hellip;</td><td>&hellip;</td><td>&hellip;</td><td>&hellip;</td><td>&hellip;</td><td>&hellip;</td><td>&hellip;</td><td>&hellip;</td><td>&hellip;</td><td>&hellip;</td><td>&hellip;</td><td>&hellip;</td></tr><tr><td>&quot;ethereum&quot;</td><td>2024-07-01 23:09:23 UTC</td><td>20214859</td><td>&quot;0xaae81e0efcfec01262024e2e7b070c1183ccba27672b1a5970d7804f42b7a23c&quot;</td><td>0</td><td>&quot;0x0abdace70d3790235af448c88547603b945604ea&quot;</td><td>&quot;0xc02aaa39b223fe8d0a0e5c4f27ead9083c756cc2&quot;</td><td>10000.0</td><td>&quot;200&quot;</td><td>&quot;0x74f3710792b88bce2c80698efc8a7829ad37d777&quot;</td><td>&quot;DNT&quot;</td><td>18.0</td><td>&quot;WETH&quot;</td><td>18.0</td></tr><tr><td>&quot;ethereum&quot;</td><td>2024-07-02 17:28:35 UTC</td><td>20220320</td><td>&quot;0x2995d0178413cb29f91fa464aae4d7e8f4aa5524de9e5a932ef92a4adb8afe44&quot;</td><td>394</td><td>&quot;0x6ca9d0b650c7a4b3871ea898b9f1a7fd27fb1d58&quot;</td><td>&quot;0xdac17f958d2ee523a2206206994597c13d831ec7&quot;</td><td>100.0</td><td>&quot;1&quot;</td><td>&quot;0xe1ab3ac0495f991d2295b760418e255f4343571a&quot;</td><td>&quot;USD&quot;</td><td>18.0</td><td>&quot;USDT&quot;</td><td>6.0</td></tr><tr><td>&quot;ethereum&quot;</td><td>2024-07-02 02:29:47 UTC</td><td>20215859</td><td>&quot;0xfa0326f6103cd8eb15e375a86f9afec5385728a3592f3424a52051f38fdaef66&quot;</td><td>522</td><td>&quot;0xc02aaa39b223fe8d0a0e5c4f27ead9083c756cc2&quot;</td><td>&quot;0xf230b790e05390fc8295f4d3f60332c93bed42e2&quot;</td><td>10000.0</td><td>&quot;200&quot;</td><td>&quot;0x6792ff48f3164030f09f21cc5894fd5644418c30&quot;</td><td>&quot;WETH&quot;</td><td>18.0</td><td>&quot;TRX&quot;</td><td>6.0</td></tr><tr><td>&quot;ethereum&quot;</td><td>2024-07-02 04:29:59 UTC</td><td>20216455</td><td>&quot;0x715d861d8f7f3d80e1c52dcc6d977bfbb50de0c874e2c9b8bdde99b91d53b12f&quot;</td><td>305</td><td>&quot;0x456c636ca9fd54dbdd66de6c1c0feaf5637ddb7b&quot;</td><td>&quot;0xc02aaa39b223fe8d0a0e5c4f27ead9083c756cc2&quot;</td><td>10000.0</td><td>&quot;200&quot;</td><td>&quot;0x8b5d4632496407a5bb6cffd016319822177a372c&quot;</td><td>&quot;CIM&quot;</td><td>18.0</td><td>&quot;WETH&quot;</td><td>18.0</td></tr><tr><td>&quot;ethereum&quot;</td><td>2024-07-02 09:30:47 UTC</td><td>20217949</td><td>&quot;0xf3c89c64f0a11cff02117a681de956ea55622b32536d2a662f6d7bda1c0524ef&quot;</td><td>477</td><td>&quot;0xa0b86991c6218b36c1d19d4a2e9eb0ce3606eb48&quot;</td><td>&quot;0xb4272071ecadd69d933adcd19ca99fe80664fc08&quot;</td><td>10000.0</td><td>&quot;200&quot;</td><td>&quot;0x83480d992196f54cdba2a5a75f0795f5e82d7492&quot;</td><td>&quot;USDC&quot;</td><td>6.0</td><td>&quot;XCHF&quot;</td><td>18.0</td></tr></tbody></table></div>"
      ],
      "text/plain": [
       "shape: (3_196, 14)\n",
       "┌────────────┬─────────────────────────┬──────────────┬────────────────────────────────────────────────────────────────────┬───┬─────────┬───────────┬─────────┬───────────┐\n",
       "│ chain_name ┆ block_timestamp         ┆ block_number ┆ transaction_hash                                                   ┆ … ┆ symbol0 ┆ decimals0 ┆ symbol1 ┆ decimals1 │\n",
       "│ ---        ┆ ---                     ┆ ---          ┆ ---                                                                ┆   ┆ ---     ┆ ---       ┆ ---     ┆ ---       │\n",
       "│ str        ┆ datetime[μs, UTC]       ┆ i64          ┆ str                                                                ┆   ┆ str     ┆ f64       ┆ str     ┆ f64       │\n",
       "╞════════════╪═════════════════════════╪══════════════╪════════════════════════════════════════════════════════════════════╪═══╪═════════╪═══════════╪═════════╪═══════════╡\n",
       "│ ethereum   ┆ 2023-05-25 23:05:47 UTC ┆ 17339307     ┆ 0x2f31841a5174d4470bd375358327473d735ec0be94718924fd39643f81b5c62a ┆ … ┆ REV     ┆ 18.0      ┆ WETH    ┆ 18.0      │\n",
       "│ ethereum   ┆ 2023-05-25 22:59:59 UTC ┆ 17339278     ┆ 0x1334b6ea3d67bf7d0913764eb739b22fb4d7231f790b635ed7a6acce2dbc61ab ┆ … ┆ RBE     ┆ 18.0      ┆ WETH    ┆ 18.0      │\n",
       "│ ethereum   ┆ 2023-05-25 09:01:47 UTC ┆ 17335142     ┆ 0x448fb8123f1d14109d2cd042332ab6e7596315fb02f07c14e39f82157b7d07bc ┆ … ┆ MRW     ┆ 18.0      ┆ WETH    ┆ 18.0      │\n",
       "│ ethereum   ┆ 2023-05-25 15:45:59 UTC ┆ 17337135     ┆ 0x39cda277528951896de1307c245991b5abb9fdb4672af7b07700d5aa06f3e1f0 ┆ … ┆ CENSOR  ┆ 18.0      ┆ WETH    ┆ 18.0      │\n",
       "│ ethereum   ┆ 2023-05-25 07:43:11 UTC ┆ 17334755     ┆ 0xba1b2b6941763e2c2d32065fec3a50a42e2628a2c138215354987786995dfad9 ┆ … ┆ SQUID   ┆ 18.0      ┆ WETH    ┆ 18.0      │\n",
       "│ …          ┆ …                       ┆ …            ┆ …                                                                  ┆ … ┆ …       ┆ …         ┆ …       ┆ …         │\n",
       "│ ethereum   ┆ 2024-07-01 23:09:23 UTC ┆ 20214859     ┆ 0xaae81e0efcfec01262024e2e7b070c1183ccba27672b1a5970d7804f42b7a23c ┆ … ┆ DNT     ┆ 18.0      ┆ WETH    ┆ 18.0      │\n",
       "│ ethereum   ┆ 2024-07-02 17:28:35 UTC ┆ 20220320     ┆ 0x2995d0178413cb29f91fa464aae4d7e8f4aa5524de9e5a932ef92a4adb8afe44 ┆ … ┆ USD     ┆ 18.0      ┆ USDT    ┆ 6.0       │\n",
       "│ ethereum   ┆ 2024-07-02 02:29:47 UTC ┆ 20215859     ┆ 0xfa0326f6103cd8eb15e375a86f9afec5385728a3592f3424a52051f38fdaef66 ┆ … ┆ WETH    ┆ 18.0      ┆ TRX     ┆ 6.0       │\n",
       "│ ethereum   ┆ 2024-07-02 04:29:59 UTC ┆ 20216455     ┆ 0x715d861d8f7f3d80e1c52dcc6d977bfbb50de0c874e2c9b8bdde99b91d53b12f ┆ … ┆ CIM     ┆ 18.0      ┆ WETH    ┆ 18.0      │\n",
       "│ ethereum   ┆ 2024-07-02 09:30:47 UTC ┆ 20217949     ┆ 0xf3c89c64f0a11cff02117a681de956ea55622b32536d2a662f6d7bda1c0524ef ┆ … ┆ USDC    ┆ 6.0       ┆ XCHF    ┆ 18.0      │\n",
       "└────────────┴─────────────────────────┴──────────────┴────────────────────────────────────────────────────────────────────┴───┴─────────┴───────────┴─────────┴───────────┘"
      ]
     },
     "execution_count": 13,
     "metadata": {},
     "output_type": "execute_result"
    }
   ],
   "source": [
    "filtered_result = result.filter(\n",
    "    pl.col(\"decimals0\").is_not_null() & pl.col(\"decimals1\").is_not_null()\n",
    ")\n",
    "\n",
    "filtered_result"
   ]
  },
  {
   "cell_type": "code",
   "execution_count": 14,
   "metadata": {},
   "outputs": [],
   "source": [
    "# Save the result to a parquet file\n",
    "filtered_result.write_parquet(base / \"pool_token_info.parquet\")"
   ]
  },
  {
   "cell_type": "code",
   "execution_count": null,
   "metadata": {},
   "outputs": [],
   "source": []
  }
 ],
 "metadata": {
  "kernelspec": {
   "display_name": "venv",
   "language": "python",
   "name": "python3"
  },
  "language_info": {
   "codemirror_mode": {
    "name": "ipython",
    "version": 3
   },
   "file_extension": ".py",
   "mimetype": "text/x-python",
   "name": "python",
   "nbconvert_exporter": "python",
   "pygments_lexer": "ipython3",
   "version": "3.12.4"
  }
 },
 "nbformat": 4,
 "nbformat_minor": 2
}
