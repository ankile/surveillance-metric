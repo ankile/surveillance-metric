{
 "cells": [
  {
   "cell_type": "code",
   "execution_count": 1,
   "metadata": {},
   "outputs": [],
   "source": [
    "import polars as pl\n",
    "from pathlib import Path\n",
    "import matplotlib.pyplot as plt"
   ]
  },
  {
   "cell_type": "code",
   "execution_count": 2,
   "metadata": {},
   "outputs": [],
   "source": [
    "base = Path(\"/Users/larsankile/code/surveillance-metric-2/data_original\")"
   ]
  },
  {
   "cell_type": "code",
   "execution_count": 3,
   "metadata": {},
   "outputs": [],
   "source": [
    "# Group by `address` and `block_number` and count the number of swaps\n",
    "# but do it lazily\n",
    "swap_counts = (\n",
    "    pl.scan_parquet(base / \"swaps/*.parquet\")\n",
    "    .group_by([\"address\", \"block_number\"])\n",
    "    .agg(swap_count=pl.len())\n",
    ").collect()"
   ]
  },
  {
   "cell_type": "code",
   "execution_count": 4,
   "metadata": {},
   "outputs": [
    {
     "data": {
      "text/html": [
       "<div><style>\n",
       ".dataframe > thead > tr,\n",
       ".dataframe > tbody > tr {\n",
       "  text-align: right;\n",
       "  white-space: pre-wrap;\n",
       "}\n",
       "</style>\n",
       "<small>shape: (23_089_354, 3)</small><table border=\"1\" class=\"dataframe\"><thead><tr><th>address</th><th>block_number</th><th>swap_count</th></tr><tr><td>str</td><td>i64</td><td>u32</td></tr></thead><tbody><tr><td>&quot;0x88e6a0c2ddd26feeb64f039a2c41…</td><td>18474075</td><td>252</td></tr><tr><td>&quot;0xb03f87e577c4fe4685cf2c88a847…</td><td>16330521</td><td>197</td></tr><tr><td>&quot;0xa42bfbf7c87207874ce975b59d42…</td><td>18622654</td><td>155</td></tr><tr><td>&quot;0x6505215f0aa54ccef41b24ee62ea…</td><td>18551883</td><td>121</td></tr><tr><td>&quot;0xe2cd56d47ba10ee2e9f5ae85ce77…</td><td>18396262</td><td>109</td></tr><tr><td>&hellip;</td><td>&hellip;</td><td>&hellip;</td></tr><tr><td>&quot;0x1837164d1ac7cb56d75c8964aab9…</td><td>13681373</td><td>1</td></tr><tr><td>&quot;0x82743c07bf3be4d55876f87bca6c…</td><td>16303526</td><td>1</td></tr><tr><td>&quot;0x07f3d316630719f4fc69c152f397…</td><td>14492347</td><td>1</td></tr><tr><td>&quot;0x0af3faca2a2a0324523f9740e6d3…</td><td>13181352</td><td>1</td></tr><tr><td>&quot;0x7baece5d47f1bc5e1953fbe0e993…</td><td>17173023</td><td>1</td></tr></tbody></table></div>"
      ],
      "text/plain": [
       "shape: (23_089_354, 3)\n",
       "┌─────────────────────────────────┬──────────────┬────────────┐\n",
       "│ address                         ┆ block_number ┆ swap_count │\n",
       "│ ---                             ┆ ---          ┆ ---        │\n",
       "│ str                             ┆ i64          ┆ u32        │\n",
       "╞═════════════════════════════════╪══════════════╪════════════╡\n",
       "│ 0x88e6a0c2ddd26feeb64f039a2c41… ┆ 18474075     ┆ 252        │\n",
       "│ 0xb03f87e577c4fe4685cf2c88a847… ┆ 16330521     ┆ 197        │\n",
       "│ 0xa42bfbf7c87207874ce975b59d42… ┆ 18622654     ┆ 155        │\n",
       "│ 0x6505215f0aa54ccef41b24ee62ea… ┆ 18551883     ┆ 121        │\n",
       "│ 0xe2cd56d47ba10ee2e9f5ae85ce77… ┆ 18396262     ┆ 109        │\n",
       "│ …                               ┆ …            ┆ …          │\n",
       "│ 0x1837164d1ac7cb56d75c8964aab9… ┆ 13681373     ┆ 1          │\n",
       "│ 0x82743c07bf3be4d55876f87bca6c… ┆ 16303526     ┆ 1          │\n",
       "│ 0x07f3d316630719f4fc69c152f397… ┆ 14492347     ┆ 1          │\n",
       "│ 0x0af3faca2a2a0324523f9740e6d3… ┆ 13181352     ┆ 1          │\n",
       "│ 0x7baece5d47f1bc5e1953fbe0e993… ┆ 17173023     ┆ 1          │\n",
       "└─────────────────────────────────┴──────────────┴────────────┘"
      ]
     },
     "execution_count": 4,
     "metadata": {},
     "output_type": "execute_result"
    }
   ],
   "source": [
    "swap_counts.sort(\"swap_count\", descending=True)"
   ]
  },
  {
   "cell_type": "code",
   "execution_count": 6,
   "metadata": {},
   "outputs": [
    {
     "data": {
      "text/plain": [
       "[]"
      ]
     },
     "execution_count": 6,
     "metadata": {},
     "output_type": "execute_result"
    },
    {
     "data": {
      "image/png": "[encoded data removed]",
      "text/plain": [
       "<Figure size 640x480 with 1 Axes>"
      ]
     },
     "metadata": {},
     "output_type": "display_data"
    }
   ],
   "source": [
    "plt.hist(swap_counts.get_column(\"swap_count\").to_numpy(), bins=100)\n",
    "plt.loglog()"
   ]
  },
  {
   "cell_type": "code",
   "execution_count": 7,
   "metadata": {},
   "outputs": [],
   "source": [
    "# Write the result to a file\n",
    "swap_counts.write_parquet(base / \"swap_counts.parquet\")"
   ]
  },
  {
   "cell_type": "code",
   "execution_count": null,
   "metadata": {},
   "outputs": [],
   "source": []
  }
 ],
 "metadata": {
  "kernelspec": {
   "display_name": "venv",
   "language": "python",
   "name": "python3"
  },
  "language_info": {
   "codemirror_mode": {
    "name": "ipython",
    "version": 3
   },
   "file_extension": ".py",
   "mimetype": "text/x-python",
   "name": "python",
   "nbconvert_exporter": "python",
   "pygments_lexer": "ipython3",
   "version": "3.12.4"
  }
 },
 "nbformat": 4,
 "nbformat_minor": 2
}
