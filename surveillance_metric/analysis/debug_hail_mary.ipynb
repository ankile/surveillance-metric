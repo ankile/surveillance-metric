{
 "cells": [
  {
   "cell_type": "code",
   "execution_count": 1,
   "metadata": {},
   "outputs": [
    {
     "data": {
      "text/plain": [
       "polars.config.Config"
      ]
     },
     "execution_count": 1,
     "metadata": {},
     "output_type": "execute_result"
    }
   ],
   "source": [
    "import polars as pl\n",
    "\n",
    "# Adjust so all columns in dataframe are shown\n",
    "pl.Config.set_tbl_cols(-1)\n",
    "pl.Config.set_tbl_width_chars(1000)"
   ]
  },
  {
   "cell_type": "code",
   "execution_count": 2,
   "metadata": {},
   "outputs": [
    {
     "data": {
      "text/plain": [
       "'16,416,874 rows, 19 columns'"
      ]
     },
     "execution_count": 2,
     "metadata": {},
     "output_type": "execute_result"
    }
   ],
   "source": [
    "df = pl.read_parquet(\"/data/scratch/ankile/surveillance-metric-2/data/pool_swap_events/*.parquet\")\n",
    "\n",
    "f\"{df.shape[0]:,} rows, {df.shape[1]} columns\""
   ]
  },
  {
   "cell_type": "code",
   "execution_count": 12,
   "metadata": {},
   "outputs": [
    {
     "data": {
      "text/plain": [
       "['0x8d7fedce6b88bc54f620434c2964363b9feeb71598bfac3e91c9e0044b797758',\n",
       " '0xc8d4808c18e522741595c1e2d2366a96c08c51be8a7257d898038f57156104d1',\n",
       " '0xb17e059667122af566d3f17a65f76b5f937ae88c26b4e04e9a1dbfe315eb3544',\n",
       " '0x450dfb2e06824443054124d49fb24dd20c5bab2b7f7d5635e79a7747960aba57',\n",
       " '0x717fa590ae33fac5dc44d17fe1078661660f7a5ba849630cba954c43d42ef08f']"
      ]
     },
     "execution_count": 12,
     "metadata": {},
     "output_type": "execute_result"
    }
   ],
   "source": [
    "df.select(\"transaction_hash\").head(5).to_pandas()[\"transaction_hash\"].to_list()"
   ]
  },
  {
   "cell_type": "code",
   "execution_count": 4,
   "metadata": {},
   "outputs": [
    {
     "data": {
      "text/plain": [
       "['chain_name',\n",
       " 'address',\n",
       " 'block_timestamp',\n",
       " 'block_number',\n",
       " 'transaction_hash',\n",
       " 'log_index',\n",
       " 'sender',\n",
       " 'recipient',\n",
       " 'amount0',\n",
       " 'amount1',\n",
       " 'sqrtPriceX96',\n",
       " 'liquidity',\n",
       " 'tick',\n",
       " 'to_address',\n",
       " 'from_address',\n",
       " 'transaction_index',\n",
       " 'gas_price',\n",
       " 'gas_used',\n",
       " 'l1_fee']"
      ]
     },
     "execution_count": 4,
     "metadata": {},
     "output_type": "execute_result"
    }
   ],
   "source": [
    "df.columns"
   ]
  },
  {
   "cell_type": "code",
   "execution_count": 13,
   "metadata": {},
   "outputs": [
    {
     "data": {
      "text/html": [
       "<div><style>\n",
       ".dataframe > thead > tr,\n",
       ".dataframe > tbody > tr {\n",
       "  text-align: right;\n",
       "  white-space: pre-wrap;\n",
       "}\n",
       "</style>\n",
       "<small>shape: (1, 19)</small><table border=\"1\" class=\"dataframe\"><thead><tr><th>chain_name</th><th>address</th><th>block_timestamp</th><th>block_number</th><th>transaction_hash</th><th>log_index</th><th>sender</th><th>recipient</th><th>amount0</th><th>amount1</th><th>sqrtPriceX96</th><th>liquidity</th><th>tick</th><th>to_address</th><th>from_address</th><th>transaction_index</th><th>gas_price</th><th>gas_used</th><th>l1_fee</th></tr><tr><td>str</td><td>str</td><td>datetime[μs, UTC]</td><td>i64</td><td>str</td><td>i64</td><td>str</td><td>str</td><td>str</td><td>str</td><td>str</td><td>str</td><td>f64</td><td>str</td><td>str</td><td>i64</td><td>str</td><td>str</td><td>null</td></tr></thead><tbody><tr><td>&quot;ethereum&quot;</td><td>&quot;0x000ea4a83acefdd62b1b43e9ccc2…</td><td>2023-01-21 06:47:23 UTC</td><td>16453477</td><td>&quot;0x8d7fedce6b88bc54f620434c2964…</td><td>216</td><td>&quot;0xef1c6e67703c7bd7107eed8303fb…</td><td>&quot;0x3f70347ccc6992b85b71c36f32d4…</td><td>&quot;-38.81568558473759688&quot;</td><td>&quot;0.023576958766568552&quot;</td><td>&quot;1956496701769534125377830665&quot;</td><td>&quot;137209476420281066764&quot;</td><td>-74028.0</td><td>&quot;0xef1c6e67703c7bd7107eed8303fb…</td><td>&quot;0x3f70347ccc6992b85b71c36f32d4…</td><td>91</td><td>&quot;15693206651&quot;</td><td>&quot;140343&quot;</td><td>null</td></tr></tbody></table></div>"
      ],
      "text/plain": [
       "shape: (1, 19)\n",
       "┌────────────┬─────────────────────────────────┬─────────────────────────┬──────────────┬─────────────────────────────────┬───────────┬─────────────────────────────────┬─────────────────────────────────┬───────────────────────┬──────────────────────┬──────────────────────────────┬───────────────────────┬──────────┬─────────────────────────────────┬─────────────────────────────────┬───────────────────┬─────────────┬──────────┬────────┐\n",
       "│ chain_name ┆ address                         ┆ block_timestamp         ┆ block_number ┆ transaction_hash                ┆ log_index ┆ sender                          ┆ recipient                       ┆ amount0               ┆ amount1              ┆ sqrtPriceX96                 ┆ liquidity             ┆ tick     ┆ to_address                      ┆ from_address                    ┆ transaction_index ┆ gas_price   ┆ gas_used ┆ l1_fee │\n",
       "│ ---        ┆ ---                             ┆ ---                     ┆ ---          ┆ ---                             ┆ ---       ┆ ---                             ┆ ---                             ┆ ---                   ┆ ---                  ┆ ---                          ┆ ---                   ┆ ---      ┆ ---                             ┆ ---                             ┆ ---               ┆ ---         ┆ ---      ┆ ---    │\n",
       "│ str        ┆ str                             ┆ datetime[μs, UTC]       ┆ i64          ┆ str                             ┆ i64       ┆ str                             ┆ str                             ┆ str                   ┆ str                  ┆ str                          ┆ str                   ┆ f64      ┆ str                             ┆ str                             ┆ i64               ┆ str         ┆ str      ┆ null   │\n",
       "╞════════════╪═════════════════════════════════╪═════════════════════════╪══════════════╪═════════════════════════════════╪═══════════╪═════════════════════════════════╪═════════════════════════════════╪═══════════════════════╪══════════════════════╪══════════════════════════════╪═══════════════════════╪══════════╪═════════════════════════════════╪═════════════════════════════════╪═══════════════════╪═════════════╪══════════╪════════╡\n",
       "│ ethereum   ┆ 0x000ea4a83acefdd62b1b43e9ccc2… ┆ 2023-01-21 06:47:23 UTC ┆ 16453477     ┆ 0x8d7fedce6b88bc54f620434c2964… ┆ 216       ┆ 0xef1c6e67703c7bd7107eed8303fb… ┆ 0x3f70347ccc6992b85b71c36f32d4… ┆ -38.81568558473759688 ┆ 0.023576958766568552 ┆ 1956496701769534125377830665 ┆ 137209476420281066764 ┆ -74028.0 ┆ 0xef1c6e67703c7bd7107eed8303fb… ┆ 0x3f70347ccc6992b85b71c36f32d4… ┆ 91                ┆ 15693206651 ┆ 140343   ┆ null   │\n",
       "└────────────┴─────────────────────────────────┴─────────────────────────┴──────────────┴─────────────────────────────────┴───────────┴─────────────────────────────────┴─────────────────────────────────┴───────────────────────┴──────────────────────┴──────────────────────────────┴───────────────────────┴──────────┴─────────────────────────────────┴─────────────────────────────────┴───────────────────┴─────────────┴──────────┴────────┘"
      ]
     },
     "execution_count": 13,
     "metadata": {},
     "output_type": "execute_result"
    }
   ],
   "source": [
    "df.filter(pl.col(\"transaction_hash\") == \"0x8d7fedce6b88bc54f620434c2964363b9feeb71598bfac3e91c9e0044b797758\")"
   ]
  },
  {
   "cell_type": "code",
   "execution_count": null,
   "metadata": {},
   "outputs": [],
   "source": []
  },
  {
   "cell_type": "code",
   "execution_count": 3,
   "metadata": {},
   "outputs": [
    {
     "ename": "DefaultCredentialsError",
     "evalue": "Your default credentials were not found. To set up Application Default Credentials, see https://cloud.google.com/docs/authentication/external/set-up-adc for more information.",
     "output_type": "error",
     "traceback": [
      "\u001b[0;31m---------------------------------------------------------------------------\u001b[0m",
      "\u001b[0;31mDefaultCredentialsError\u001b[0m                   Traceback (most recent call last)",
      "Cell \u001b[0;32mIn[3], line 8\u001b[0m\n\u001b[1;32m      5\u001b[0m \u001b[38;5;28;01mimport\u001b[39;00m \u001b[38;5;21;01mos\u001b[39;00m\n\u001b[1;32m      7\u001b[0m \u001b[38;5;66;03m# Initialize BigQuery client\u001b[39;00m\n\u001b[0;32m----> 8\u001b[0m client \u001b[38;5;241m=\u001b[39m \u001b[43mbigquery\u001b[49m\u001b[38;5;241;43m.\u001b[39;49m\u001b[43mClient\u001b[49m\u001b[43m(\u001b[49m\u001b[43m)\u001b[49m\n\u001b[1;32m     10\u001b[0m \u001b[38;5;66;03m# Set your BigQuery details\u001b[39;00m\n\u001b[1;32m     11\u001b[0m project_id \u001b[38;5;241m=\u001b[39m \u001b[38;5;124m\"\u001b[39m\u001b[38;5;124mmimetic-design-338620\u001b[39m\u001b[38;5;124m\"\u001b[39m\n",
      "File \u001b[0;32m/data/scratch/ankile/miniconda3/envs/defi/lib/python3.12/site-packages/google/cloud/bigquery/client.py:243\u001b[0m, in \u001b[0;36mClient.__init__\u001b[0;34m(self, project, credentials, _http, location, default_query_job_config, default_load_job_config, client_info, client_options)\u001b[0m\n\u001b[1;32m    232\u001b[0m \u001b[38;5;28;01mdef\u001b[39;00m \u001b[38;5;21m__init__\u001b[39m(\n\u001b[1;32m    233\u001b[0m     \u001b[38;5;28mself\u001b[39m,\n\u001b[1;32m    234\u001b[0m     project\u001b[38;5;241m=\u001b[39m\u001b[38;5;28;01mNone\u001b[39;00m,\n\u001b[0;32m   (...)\u001b[0m\n\u001b[1;32m    241\u001b[0m     client_options\u001b[38;5;241m=\u001b[39m\u001b[38;5;28;01mNone\u001b[39;00m,\n\u001b[1;32m    242\u001b[0m ) \u001b[38;5;241m-\u001b[39m\u001b[38;5;241m>\u001b[39m \u001b[38;5;28;01mNone\u001b[39;00m:\n\u001b[0;32m--> 243\u001b[0m     \u001b[38;5;28;43msuper\u001b[39;49m\u001b[43m(\u001b[49m\u001b[43mClient\u001b[49m\u001b[43m,\u001b[49m\u001b[43m \u001b[49m\u001b[38;5;28;43mself\u001b[39;49m\u001b[43m)\u001b[49m\u001b[38;5;241;43m.\u001b[39;49m\u001b[38;5;21;43m__init__\u001b[39;49m\u001b[43m(\u001b[49m\n\u001b[1;32m    244\u001b[0m \u001b[43m        \u001b[49m\u001b[43mproject\u001b[49m\u001b[38;5;241;43m=\u001b[39;49m\u001b[43mproject\u001b[49m\u001b[43m,\u001b[49m\n\u001b[1;32m    245\u001b[0m \u001b[43m        \u001b[49m\u001b[43mcredentials\u001b[49m\u001b[38;5;241;43m=\u001b[39;49m\u001b[43mcredentials\u001b[49m\u001b[43m,\u001b[49m\n\u001b[1;32m    246\u001b[0m \u001b[43m        \u001b[49m\u001b[43mclient_options\u001b[49m\u001b[38;5;241;43m=\u001b[39;49m\u001b[43mclient_options\u001b[49m\u001b[43m,\u001b[49m\n\u001b[1;32m    247\u001b[0m \u001b[43m        \u001b[49m\u001b[43m_http\u001b[49m\u001b[38;5;241;43m=\u001b[39;49m\u001b[43m_http\u001b[49m\u001b[43m,\u001b[49m\n\u001b[1;32m    248\u001b[0m \u001b[43m    \u001b[49m\u001b[43m)\u001b[49m\n\u001b[1;32m    250\u001b[0m     kw_args \u001b[38;5;241m=\u001b[39m {\u001b[38;5;124m\"\u001b[39m\u001b[38;5;124mclient_info\u001b[39m\u001b[38;5;124m\"\u001b[39m: client_info}\n\u001b[1;32m    251\u001b[0m     bq_host \u001b[38;5;241m=\u001b[39m _get_bigquery_host()\n",
      "File \u001b[0;32m/data/scratch/ankile/miniconda3/envs/defi/lib/python3.12/site-packages/google/cloud/client/__init__.py:320\u001b[0m, in \u001b[0;36mClientWithProject.__init__\u001b[0;34m(self, project, credentials, client_options, _http)\u001b[0m\n\u001b[1;32m    319\u001b[0m \u001b[38;5;28;01mdef\u001b[39;00m \u001b[38;5;21m__init__\u001b[39m(\u001b[38;5;28mself\u001b[39m, project\u001b[38;5;241m=\u001b[39m\u001b[38;5;28;01mNone\u001b[39;00m, credentials\u001b[38;5;241m=\u001b[39m\u001b[38;5;28;01mNone\u001b[39;00m, client_options\u001b[38;5;241m=\u001b[39m\u001b[38;5;28;01mNone\u001b[39;00m, _http\u001b[38;5;241m=\u001b[39m\u001b[38;5;28;01mNone\u001b[39;00m):\n\u001b[0;32m--> 320\u001b[0m     \u001b[43m_ClientProjectMixin\u001b[49m\u001b[38;5;241;43m.\u001b[39;49m\u001b[38;5;21;43m__init__\u001b[39;49m\u001b[43m(\u001b[49m\u001b[38;5;28;43mself\u001b[39;49m\u001b[43m,\u001b[49m\u001b[43m \u001b[49m\u001b[43mproject\u001b[49m\u001b[38;5;241;43m=\u001b[39;49m\u001b[43mproject\u001b[49m\u001b[43m,\u001b[49m\u001b[43m \u001b[49m\u001b[43mcredentials\u001b[49m\u001b[38;5;241;43m=\u001b[39;49m\u001b[43mcredentials\u001b[49m\u001b[43m)\u001b[49m\n\u001b[1;32m    321\u001b[0m     Client\u001b[38;5;241m.\u001b[39m\u001b[38;5;21m__init__\u001b[39m(\n\u001b[1;32m    322\u001b[0m         \u001b[38;5;28mself\u001b[39m, credentials\u001b[38;5;241m=\u001b[39mcredentials, client_options\u001b[38;5;241m=\u001b[39mclient_options, _http\u001b[38;5;241m=\u001b[39m_http\n\u001b[1;32m    323\u001b[0m     )\n",
      "File \u001b[0;32m/data/scratch/ankile/miniconda3/envs/defi/lib/python3.12/site-packages/google/cloud/client/__init__.py:268\u001b[0m, in \u001b[0;36m_ClientProjectMixin.__init__\u001b[0;34m(self, project, credentials)\u001b[0m\n\u001b[1;32m    265\u001b[0m     project \u001b[38;5;241m=\u001b[39m \u001b[38;5;28mgetattr\u001b[39m(credentials, \u001b[38;5;124m\"\u001b[39m\u001b[38;5;124mproject_id\u001b[39m\u001b[38;5;124m\"\u001b[39m, \u001b[38;5;28;01mNone\u001b[39;00m)\n\u001b[1;32m    267\u001b[0m \u001b[38;5;28;01mif\u001b[39;00m project \u001b[38;5;129;01mis\u001b[39;00m \u001b[38;5;28;01mNone\u001b[39;00m:\n\u001b[0;32m--> 268\u001b[0m     project \u001b[38;5;241m=\u001b[39m \u001b[38;5;28;43mself\u001b[39;49m\u001b[38;5;241;43m.\u001b[39;49m\u001b[43m_determine_default\u001b[49m\u001b[43m(\u001b[49m\u001b[43mproject\u001b[49m\u001b[43m)\u001b[49m\n\u001b[1;32m    270\u001b[0m \u001b[38;5;28;01mif\u001b[39;00m project \u001b[38;5;129;01mis\u001b[39;00m \u001b[38;5;28;01mNone\u001b[39;00m:\n\u001b[1;32m    271\u001b[0m     \u001b[38;5;28;01mraise\u001b[39;00m \u001b[38;5;167;01mEnvironmentError\u001b[39;00m(\n\u001b[1;32m    272\u001b[0m         \u001b[38;5;124m\"\u001b[39m\u001b[38;5;124mProject was not passed and could not be \u001b[39m\u001b[38;5;124m\"\u001b[39m\n\u001b[1;32m    273\u001b[0m         \u001b[38;5;124m\"\u001b[39m\u001b[38;5;124mdetermined from the environment.\u001b[39m\u001b[38;5;124m\"\u001b[39m\n\u001b[1;32m    274\u001b[0m     )\n",
      "File \u001b[0;32m/data/scratch/ankile/miniconda3/envs/defi/lib/python3.12/site-packages/google/cloud/client/__init__.py:287\u001b[0m, in \u001b[0;36m_ClientProjectMixin._determine_default\u001b[0;34m(project)\u001b[0m\n\u001b[1;32m    284\u001b[0m \u001b[38;5;129m@staticmethod\u001b[39m\n\u001b[1;32m    285\u001b[0m \u001b[38;5;28;01mdef\u001b[39;00m \u001b[38;5;21m_determine_default\u001b[39m(project):\n\u001b[1;32m    286\u001b[0m \u001b[38;5;250m    \u001b[39m\u001b[38;5;124;03m\"\"\"Helper:  use default project detection.\"\"\"\u001b[39;00m\n\u001b[0;32m--> 287\u001b[0m     \u001b[38;5;28;01mreturn\u001b[39;00m \u001b[43m_determine_default_project\u001b[49m\u001b[43m(\u001b[49m\u001b[43mproject\u001b[49m\u001b[43m)\u001b[49m\n",
      "File \u001b[0;32m/data/scratch/ankile/miniconda3/envs/defi/lib/python3.12/site-packages/google/cloud/_helpers/__init__.py:152\u001b[0m, in \u001b[0;36m_determine_default_project\u001b[0;34m(project)\u001b[0m\n\u001b[1;32m    140\u001b[0m \u001b[38;5;250m\u001b[39m\u001b[38;5;124;03m\"\"\"Determine default project ID explicitly or implicitly as fall-back.\u001b[39;00m\n\u001b[1;32m    141\u001b[0m \n\u001b[1;32m    142\u001b[0m \u001b[38;5;124;03mSee :func:`google.auth.default` for details on how the default project\u001b[39;00m\n\u001b[0;32m   (...)\u001b[0m\n\u001b[1;32m    149\u001b[0m \u001b[38;5;124;03m:returns: Default project if it can be determined.\u001b[39;00m\n\u001b[1;32m    150\u001b[0m \u001b[38;5;124;03m\"\"\"\u001b[39;00m\n\u001b[1;32m    151\u001b[0m \u001b[38;5;28;01mif\u001b[39;00m project \u001b[38;5;129;01mis\u001b[39;00m \u001b[38;5;28;01mNone\u001b[39;00m:\n\u001b[0;32m--> 152\u001b[0m     _, project \u001b[38;5;241m=\u001b[39m \u001b[43mgoogle\u001b[49m\u001b[38;5;241;43m.\u001b[39;49m\u001b[43mauth\u001b[49m\u001b[38;5;241;43m.\u001b[39;49m\u001b[43mdefault\u001b[49m\u001b[43m(\u001b[49m\u001b[43m)\u001b[49m\n\u001b[1;32m    153\u001b[0m \u001b[38;5;28;01mreturn\u001b[39;00m project\n",
      "File \u001b[0;32m/data/scratch/ankile/miniconda3/envs/defi/lib/python3.12/site-packages/google/auth/_default.py:691\u001b[0m, in \u001b[0;36mdefault\u001b[0;34m(scopes, request, quota_project_id, default_scopes)\u001b[0m\n\u001b[1;32m    683\u001b[0m             _LOGGER\u001b[38;5;241m.\u001b[39mwarning(\n\u001b[1;32m    684\u001b[0m                 \u001b[38;5;124m\"\u001b[39m\u001b[38;5;124mNo project ID could be determined. Consider running \u001b[39m\u001b[38;5;124m\"\u001b[39m\n\u001b[1;32m    685\u001b[0m                 \u001b[38;5;124m\"\u001b[39m\u001b[38;5;124m`gcloud config set project` or setting the \u001b[39m\u001b[38;5;132;01m%s\u001b[39;00m\u001b[38;5;124m \u001b[39m\u001b[38;5;124m\"\u001b[39m\n\u001b[1;32m    686\u001b[0m                 \u001b[38;5;124m\"\u001b[39m\u001b[38;5;124menvironment variable\u001b[39m\u001b[38;5;124m\"\u001b[39m,\n\u001b[1;32m    687\u001b[0m                 environment_vars\u001b[38;5;241m.\u001b[39mPROJECT,\n\u001b[1;32m    688\u001b[0m             )\n\u001b[1;32m    689\u001b[0m         \u001b[38;5;28;01mreturn\u001b[39;00m credentials, effective_project_id\n\u001b[0;32m--> 691\u001b[0m \u001b[38;5;28;01mraise\u001b[39;00m exceptions\u001b[38;5;241m.\u001b[39mDefaultCredentialsError(_CLOUD_SDK_MISSING_CREDENTIALS)\n",
      "\u001b[0;31mDefaultCredentialsError\u001b[0m: Your default credentials were not found. To set up Application Default Credentials, see https://cloud.google.com/docs/authentication/external/set-up-adc for more information."
     ]
    }
   ],
   "source": [
    "from google.cloud import bigquery\n",
    "import pandas as pd\n",
    "import pyarrow as pa\n",
    "import pyarrow.parquet as pq\n",
    "import os\n",
    "\n",
    "# Initialize BigQuery client\n",
    "client = bigquery.Client()\n",
    "\n",
    "# Set your BigQuery details\n",
    "project_id = \"mimetic-design-338620\"\n",
    "dataset_id = \"uniswap\"\n",
    "table_id = \"swap\"\n",
    "\n",
    "# Set the output directory for Parquet files\n",
    "output_dir = \"output_parquet\"\n",
    "os.makedirs(output_dir, exist_ok=True)\n",
    "\n",
    "# Construct the full table ID\n",
    "full_table_id = f\"{project_id}.{dataset_id}.{table_id}\"\n",
    "\n",
    "# Function to process and save data in chunks\n",
    "def process_and_save_chunk(rows, chunk_id):\n",
    "    df = pd.DataFrame(\n",
    "        data=[list(row.values()) for row in rows],\n",
    "        columns=[field.name for field in rows.schema]\n",
    "    )\n",
    "    table = pa.Table.from_pandas(df)\n",
    "    pq.write_table(table, os.path.join(output_dir, f\"chunk_{chunk_id}.parquet\"))\n",
    "\n",
    "# Query to select all data from the table\n",
    "query = f\"SELECT * FROM `{full_table_id}`\"\n",
    "\n",
    "# Set up the query job with large result set configuration\n",
    "job_config = bigquery.QueryJobConfig(allow_large_results=True)\n",
    "query_job = client.query(query, job_config=job_config)\n",
    "\n",
    "# Process the results in chunks\n",
    "chunk_size = 100000  # Adjust based on your memory constraints\n",
    "chunk_id = 0\n",
    "\n",
    "while True:\n",
    "    chunk = query_job.result(start_index=chunk_id * chunk_size, max_results=chunk_size)\n",
    "    rows = list(chunk)\n",
    "    \n",
    "    if not rows:\n",
    "        break\n",
    "    \n",
    "    process_and_save_chunk(chunk, chunk_id)\n",
    "    chunk_id += 1\n",
    "    print(f\"Processed and saved chunk {chunk_id}\")\n",
    "\n",
    "print(\"Download complete. All data saved as Parquet files.\")"
   ]
  },
  {
   "cell_type": "code",
   "execution_count": null,
   "metadata": {},
   "outputs": [],
   "source": []
  },
  {
   "cell_type": "code",
   "execution_count": null,
   "metadata": {},
   "outputs": [],
   "source": []
  }
 ],
 "metadata": {
  "kernelspec": {
   "display_name": "defi",
   "language": "python",
   "name": "python3"
  },
  "language_info": {
   "codemirror_mode": {
    "name": "ipython",
    "version": 3
   },
   "file_extension": ".py",
   "mimetype": "text/x-python",
   "name": "python",
   "nbconvert_exporter": "python",
   "pygments_lexer": "ipython3",
   "version": "3.12.4"
  }
 },
 "nbformat": 4,
 "nbformat_minor": 2
}
